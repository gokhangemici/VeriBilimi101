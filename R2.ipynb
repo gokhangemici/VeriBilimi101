{
 "cells": [
  {
   "cell_type": "code",
   "execution_count": 7,
   "metadata": {},
   "outputs": [
    {
     "name": "stdout",
     "output_type": "stream",
     "text": [
      "0.8086921460343559\n",
      "22.879625918114925 $\n"
     ]
    }
   ],
   "source": [
    "import numpy\r\n",
    "from sklearn.metrics import r2_score\r\n",
    "numpy.random.seed(2)\r\n",
    "\r\n",
    "x = numpy.random.normal(3, 1, 100)\r\n",
    "y = numpy.random.normal(150, 40, 100) / x\r\n",
    "\r\n",
    "train_x = x[:80] \r\n",
    "train_y = y[:80]\r\n",
    "\r\n",
    "test_x = x[80:]\r\n",
    "test_y = y[80:]\r\n",
    "\r\n",
    "mymodel = numpy.poly1d(numpy.polyfit(train_x, train_y, 4))\r\n",
    "#r2 score demonstrates how well my data set is fitting the model\r\n",
    "# r2 = r2_score(train_y, mymodel(train_x)) #we tested the model with training data \r\n",
    "r2 = r2_score(test_y, mymodel(test_x))  # we tested the model with testing data as well\r\n",
    "#The result 0.809 shows that the model fits the testing set as well, \r\n",
    "# and we are confident that we can use the model to predict future values\r\n",
    "\r\n",
    "print(r2)\r\n",
    "print(mymodel(5), \"$\") # How much money will a buying customer spend, if she or he stays in the shop for 5 minutes"
   ]
  }
 ],
 "metadata": {
  "interpreter": {
   "hash": "117970fbb7efdd79127d7cfdb36666bec183d79476a994251d6b5297dfbb984e"
  },
  "kernelspec": {
   "display_name": "Python",
   "name": "python3"
  },
  "language_info": {
   "codemirror_mode": {
    "name": "ipython",
    "version": 3
   },
   "file_extension": ".py",
   "mimetype": "text/x-python",
   "name": "python",
   "nbconvert_exporter": "python",
   "pygments_lexer": "ipython3",
   "version": "3.9.5"
  },
  "orig_nbformat": 4
 },
 "nbformat": 4,
 "nbformat_minor": 2
}