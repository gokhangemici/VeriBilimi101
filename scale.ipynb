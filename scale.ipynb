{
 "cells": [
  {
   "cell_type": "code",
   "execution_count": 13,
   "metadata": {},
   "outputs": [
    {
     "name": "stdout",
     "output_type": "stream",
     "text": [
      "[97.82012716]\n"
     ]
    }
   ],
   "source": [
    "import pandas as pd\r\n",
    "from sklearn import linear_model\r\n",
    "from sklearn.preprocessing import StandardScaler\r\n",
    "scale = StandardScaler()\r\n",
    "# predict the CO2 emission from a 1.3 liter car that weighs 2300 kilograms\r\n",
    "df = pd.read_csv(\"C:\\\\Users\\\\ASUS\\\\OneDrive\\\\Masaüstü\\\\Veri bilimi 101\\\\cars.csv\")\r\n",
    "\r\n",
    "X = df[['Weight', 'Volume']]\r\n",
    "y = df['CO2']\r\n",
    "\r\n",
    "\r\n",
    "scaledX = scale.fit_transform(X)\r\n",
    "regr = linear_model.LinearRegression()\r\n",
    "regr.fit(scaledX, y)\r\n",
    "\r\n",
    "scaled = scale.transform([[1160, 1.2]])\r\n",
    "predictedC02 = regr.predict([scaled[0]])\r\n",
    "\r\n",
    "print(predictedC02)"
   ]
  }
 ],
 "metadata": {
  "interpreter": {
   "hash": "117970fbb7efdd79127d7cfdb36666bec183d79476a994251d6b5297dfbb984e"
  },
  "kernelspec": {
   "display_name": "Python",
   "name": "python3"
  },
  "language_info": {
   "codemirror_mode": {
    "name": "ipython",
    "version": 3
   },
   "file_extension": ".py",
   "mimetype": "text/x-python",
   "name": "python",
   "nbconvert_exporter": "python",
   "pygments_lexer": "ipython3",
   "version": "3.9.5"
  },
  "orig_nbformat": 4
 },
 "nbformat": 4,
 "nbformat_minor": 2
}