{
 "cells": [
  {
   "cell_type": "code",
   "execution_count": 3,
   "metadata": {},
   "outputs": [],
   "source": [
    "import numpy as np\r\n",
    "import pandas\r\n",
    "from sklearn import linear_model"
   ]
  },
  {
   "cell_type": "code",
   "execution_count": 11,
   "metadata": {},
   "outputs": [
    {
     "name": "stdout",
     "output_type": "stream",
     "text": [
      "[13780.58974818]\n"
     ]
    }
   ],
   "source": [
    "df = pandas.read_csv(\"C:\\\\Users\\\\ASUS\\\\OneDrive\\\\Masaüstü\\\\Veri bilimi 101\\\\USA_cars_datasets.csv\")\r\n",
    "\r\n",
    "X = df[['year', 'mileage', 'lot']]  #independent variables(also inputs)\r\n",
    "y = df['price'] #dependent variable(also output)\r\n",
    "regr = linear_model.LinearRegression()\r\n",
    "regr.fit(X, y)\r\n",
    "\r\n",
    "predictedprice = regr.predict([[2009, 14754, 167789576]])\r\n",
    "print(predictedprice)"
   ]
  }
 ],
 "metadata": {
  "interpreter": {
   "hash": "117970fbb7efdd79127d7cfdb36666bec183d79476a994251d6b5297dfbb984e"
  },
  "kernelspec": {
   "display_name": "Python",
   "name": "python3"
  },
  "language_info": {
   "codemirror_mode": {
    "name": "ipython",
    "version": 3
   },
   "file_extension": ".py",
   "mimetype": "text/x-python",
   "name": "python",
   "nbconvert_exporter": "python",
   "pygments_lexer": "ipython3",
   "version": "3.9.5"
  },
  "orig_nbformat": 4
 },
 "nbformat": 4,
 "nbformat_minor": 2
}